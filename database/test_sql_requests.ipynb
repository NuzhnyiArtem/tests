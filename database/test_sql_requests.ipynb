{
 "cells": [
  {
   "cell_type": "code",
   "execution_count": null,
   "id": "e7cb3368",
   "metadata": {},
   "outputs": [],
   "source": [
    "1. Получение информации о сумме товаров заказанных под каждого клиента (Наименование клиента, сумма)\n",
    "\n",
    "SELECT\n",
    "\tclients.name AS client_name,\n",
    "\tSUM(orders.quantity * nomenclature.price) as sum\n",
    "\n",
    "FROM \n",
    "\tclients\n",
    "LEFT JOIN clients_orders ON clients.user_id = clients_orders.client_id\n",
    "LEFT JOIN orders ON clients_orders.id = orders.ord_id\n",
    "LEFT JOIN nomenclature ON orders.nomenclature_id_id = nomenclature.nomenclature_id\n",
    "GROUP BY clients.name\n",
    "\n",
    "\n",
    "2. Найти количество дочерних элементов первого уровня вложенности для категорий номенклатуры.\n",
    "\n",
    "SELECT categories.name, COUNT(cat_id) as nesting\n",
    "FROM\n",
    "\tcategories\n",
    "LEFT JOIN new_cat ON categories.cathegory_id = new_cat.cat_id\n",
    "group by categories.name"
   ]
  }
 ],
 "metadata": {
  "kernelspec": {
   "display_name": "Python 3 (ipykernel)",
   "language": "python",
   "name": "python3"
  },
  "language_info": {
   "codemirror_mode": {
    "name": "ipython",
    "version": 3
   },
   "file_extension": ".py",
   "mimetype": "text/x-python",
   "name": "python",
   "nbconvert_exporter": "python",
   "pygments_lexer": "ipython3",
   "version": "3.9.13"
  }
 },
 "nbformat": 4,
 "nbformat_minor": 5
}
